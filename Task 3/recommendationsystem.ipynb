{
 "cells": [
  {
   "cell_type": "code",
   "execution_count": 4,
   "id": "9239f520",
   "metadata": {},
   "outputs": [],
   "source": [
    "# importing necessary libraries\n",
    "import pandas as pd\n",
    "from sklearn.feature_extraction.text import TfidfVectorizer\n",
    "from sklearn.metrics.pairwise import linear_kernel"
   ]
  },
  {
   "cell_type": "code",
   "execution_count": 5,
   "id": "a66ef31d",
   "metadata": {},
   "outputs": [],
   "source": [
    "# Sample item data with descriptions\n",
    "data = {\n",
    "    'Item': ['Item1', 'Item2', 'Item3', 'Item4', 'Item5'],\n",
    "    'Description': ['This is a great product for outdoor activities.', 'Stay warm with this cozy sweater.', \n",
    "                    'Cook delicious meals with this versatile pan.', 'Capture memories with this high-resolution camera.', \n",
    "                    'Enjoy high-quality sound with these headphones.']\n",
    "}\n",
    "\n",
    "df = pd.DataFrame(data)"
   ]
  },
  {
   "cell_type": "code",
   "execution_count": 6,
   "id": "908c64ae",
   "metadata": {},
   "outputs": [],
   "source": [
    "# Create a TF-IDF vectorizer\n",
    "tfidf_vectorizer = TfidfVectorizer(stop_words='english')\n",
    "\n",
    "# Transform item descriptions into TF-IDF features\n",
    "tfidf_matrix = tfidf_vectorizer.fit_transform(df['Description'])\n",
    "\n",
    "# Calculate cosine similarity between items\n",
    "item_similarity = linear_kernel(tfidf_matrix, tfidf_matrix)\n"
   ]
  },
  {
   "cell_type": "code",
   "execution_count": 7,
   "id": "2580bcc7",
   "metadata": {},
   "outputs": [],
   "source": [
    "def content_based_filtering(item, n_recommendations=2):\n",
    "    item_index = df[df['Item'] == item].index[0]\n",
    "    similar_items = list(enumerate(item_similarity[item_index]))\n",
    "    similar_items = sorted(similar_items, key=lambda x: x[1], reverse=True)\n",
    "    recommended_items = [df['Item'][i] for i, _ in similar_items[1:n_recommendations+1]]\n",
    "    return recommended_items"
   ]
  },
  {
   "cell_type": "code",
   "execution_count": 8,
   "id": "43d18072",
   "metadata": {},
   "outputs": [
    {
     "name": "stdout",
     "output_type": "stream",
     "text": [
      "Recommended items similar to Item1: Item2, Item3\n"
     ]
    }
   ],
   "source": [
    "item_to_recommend = 'Item1'\n",
    "recommendations = content_based_filtering(item_to_recommend)\n",
    "print(f\"Recommended items similar to {item_to_recommend}: {', '.join(recommendations)}\")"
   ]
  },
  {
   "cell_type": "code",
   "execution_count": null,
   "id": "696a7bb0",
   "metadata": {},
   "outputs": [],
   "source": []
  }
 ],
 "metadata": {
  "kernelspec": {
   "display_name": "Python 3",
   "language": "python",
   "name": "python3"
  },
  "language_info": {
   "codemirror_mode": {
    "name": "ipython",
    "version": 3
   },
   "file_extension": ".py",
   "mimetype": "text/x-python",
   "name": "python",
   "nbconvert_exporter": "python",
   "pygments_lexer": "ipython3",
   "version": "3.6.15"
  }
 },
 "nbformat": 4,
 "nbformat_minor": 5
}
